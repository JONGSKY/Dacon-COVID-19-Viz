{
 "cells": [
  {
   "cell_type": "code",
   "execution_count": 194,
   "metadata": {},
   "outputs": [],
   "source": [
    "import pandas as pd\n",
    "import numpy as np\n",
    "import os\n",
    "\n",
    "import warnings\n",
    "warnings.filterwarnings(action = 'ignore')"
   ]
  },
  {
   "cell_type": "code",
   "execution_count": 276,
   "metadata": {},
   "outputs": [],
   "source": [
    "COVID_DIR = 'COVID_19'\n",
    "CARD_FILENAME = 'card_20200717.csv'"
   ]
  },
  {
   "cell_type": "code",
   "execution_count": 288,
   "metadata": {},
   "outputs": [],
   "source": [
    "def make_datetime(x):\n",
    "    x = str(x)\n",
    "    yr = x[:4]\n",
    "    month = x[4:6]\n",
    "    day = x[6:]\n",
    "    date = f'{yr}-{month}-{day}'\n",
    "    return date"
   ]
  },
  {
   "cell_type": "markdown",
   "metadata": {},
   "source": [
    "## FILES"
   ]
  },
  {
   "cell_type": "code",
   "execution_count": 10,
   "metadata": {},
   "outputs": [],
   "source": [
    "categorising_file = [file for file in os.listdir() if file.endswith('xlsx')][0]"
   ]
  },
  {
   "cell_type": "code",
   "execution_count": 123,
   "metadata": {},
   "outputs": [
    {
     "data": {
      "text/plain": [
       "((3713952, 7), (12, 13))"
      ]
     },
     "execution_count": 123,
     "metadata": {},
     "output_type": "execute_result"
    }
   ],
   "source": [
    "card_df = pd.read_csv(CARD_FILENAME)\n",
    "standard_df = pd.read_excel(categorising_file, na_values='nan').iloc[:12, :]\n",
    "standard_df = pd.DataFrame(np.vstack([standard_df.columns, standard_df])).T\n",
    "card_df.shape, standard_df.shape"
   ]
  },
  {
   "cell_type": "markdown",
   "metadata": {},
   "source": [
    "### Standard Categories"
   ]
  },
  {
   "cell_type": "code",
   "execution_count": 94,
   "metadata": {},
   "outputs": [
    {
     "data": {
      "text/plain": [
       "0     대중교통\n",
       "1       교통\n",
       "2       의류\n",
       "3      온라인\n",
       "4      음식점\n",
       "5     실내활동\n",
       "6       관광\n",
       "7       의료\n",
       "8     유흥주점\n",
       "9     실외활동\n",
       "10      교육\n",
       "11      농업\n",
       "Name: 0, dtype: object"
      ]
     },
     "execution_count": 94,
     "metadata": {},
     "output_type": "execute_result"
    }
   ],
   "source": [
    "division_first = standard_df.T.iloc[0]\n",
    "division_first"
   ]
  },
  {
   "cell_type": "code",
   "execution_count": 138,
   "metadata": {
    "scrolled": true
   },
   "outputs": [
    {
     "data": {
      "text/plain": [
       "[['버스', '지하철', '택시'],\n",
       " ['국산신차',\n",
       "  '렌트카',\n",
       "  '전기차충전소',\n",
       "  '주차장',\n",
       "  '주유소',\n",
       "  '자동차시트/타이어',\n",
       "  '카인테리어',\n",
       "  '중고자동차',\n",
       "  '이륜차판매',\n",
       "  '수입자동차']]"
      ]
     },
     "execution_count": 138,
     "metadata": {},
     "output_type": "execute_result"
    }
   ],
   "source": [
    "division_second = (standard_df.iloc[:, 1:]).values\n",
    "division_second = list(map(lambda x: [lmn for lmn in x if str(lmn) != 'nan'] , division_second))\n",
    "division_second[:2]"
   ]
  },
  {
   "cell_type": "code",
   "execution_count": 182,
   "metadata": {
    "scrolled": true
   },
   "outputs": [
    {
     "data": {
      "text/plain": [
       "{'버스': '대중교통',\n",
       " '지하철': '대중교통',\n",
       " '택시': '대중교통',\n",
       " '국산신차': '교통',\n",
       " '렌트카': '교통',\n",
       " '전기차충전소': '교통',\n",
       " '주차장': '교통',\n",
       " '주유소': '교통',\n",
       " '자동차시트/타이어': '교통',\n",
       " '카인테리어': '교통',\n",
       " '중고자동차': '교통',\n",
       " '이륜차판매': '교통',\n",
       " '수입자동차': '교통',\n",
       " '캐쥬얼의류': '의류',\n",
       " '정장': '의류',\n",
       " '기타의류': '의류',\n",
       " '신발': '의류',\n",
       " '스포츠의류': '의류',\n",
       " '내의판매점': '의류',\n",
       " '맞춤복점': '의류',\n",
       " '와이셔츠/타이': '의류',\n",
       " '인터넷Mall': '온라인',\n",
       " '인터넷P/G': '온라인',\n",
       " '인터넷종합Mall': '온라인',\n",
       " '제과점': '음식점',\n",
       " '중국음식': '음식점',\n",
       " '서양읍식': '음식점',\n",
       " '스넥': '음식점',\n",
       " '일반한식': '음식점',\n",
       " '일식회집': '음식점',\n",
       " '한정식': '음식점',\n",
       " '기타건강식': '음식점',\n",
       " '당구장': '실내활동',\n",
       " '볼링장': '실내활동',\n",
       " '스크린골프': '실내활동',\n",
       " '수영장': '실내활동',\n",
       " '영화관': '실내활동',\n",
       " '카지노': '실내활동',\n",
       " '노래방': '실내활동',\n",
       " '수족관': '실내활동',\n",
       " '레져업소(회원제형태)': '실내활동',\n",
       " '헬스크럽': '실내활동',\n",
       " '여객선': '관광',\n",
       " '관광여행': '관광',\n",
       " '항공사': '관광',\n",
       " '2급 호텔': '관광',\n",
       " '1급호텔': '관광',\n",
       " '콘도': '관광',\n",
       " '기타숙박업': '관광',\n",
       " '종합레져타운': '관광',\n",
       " '한의원': '의료',\n",
       " '종합병원': '의료',\n",
       " '한약방': '의료',\n",
       " '의료용품': '의료',\n",
       " '치과의원': '의료',\n",
       " '치과병원': '의료',\n",
       " '병원': '의료',\n",
       " '한방병원': '의료',\n",
       " '약국': '의료',\n",
       " '기타의료기관 및 기타의료기기': '의료',\n",
       " '칵테일바': '유흥주점',\n",
       " '유흥주점': '유흥주점',\n",
       " '단란주점': '유흥주점',\n",
       " '테니스장': '실외활동',\n",
       " '골프연습장': '실외활동',\n",
       " '기타교육': '교육',\n",
       " '유치원': '교육',\n",
       " '기능학원': '교육',\n",
       " '보습학원': '교육',\n",
       " '학원(회원제형태)': '교육',\n",
       " '예체능학원': '교육',\n",
       " '외국어학원': '교육',\n",
       " '비료/농약/사료/종자': '농업',\n",
       " '기타농업관련': '농업',\n",
       " '농기계': '농업'}"
      ]
     },
     "execution_count": 182,
     "metadata": {},
     "output_type": "execute_result"
    }
   ],
   "source": [
    "division_combine_dict = {lmn:key for key, lmns in zip(division_first, division_second) for lmn in lmns}\n",
    "division_combine_dict"
   ]
  },
  {
   "cell_type": "markdown",
   "metadata": {},
   "source": [
    "## Card DATA"
   ]
  },
  {
   "cell_type": "code",
   "execution_count": 290,
   "metadata": {},
   "outputs": [],
   "source": [
    "card_df['receipt_dttm'] = card_df['receipt_dttm'].map(make_datetime)"
   ]
  },
  {
   "cell_type": "code",
   "execution_count": 291,
   "metadata": {},
   "outputs": [],
   "source": [
    "card_df['mrhst_induty_cl_nm'] = card_df['mrhst_induty_cl_nm'].str.replace(pat = ' ', repl = '')"
   ]
  },
  {
   "cell_type": "code",
   "execution_count": 292,
   "metadata": {},
   "outputs": [],
   "source": [
    "extract_objects_list = division_combine_dict.keys()"
   ]
  },
  {
   "cell_type": "code",
   "execution_count": 293,
   "metadata": {},
   "outputs": [
    {
     "data": {
      "text/html": [
       "<div>\n",
       "<style scoped>\n",
       "    .dataframe tbody tr th:only-of-type {\n",
       "        vertical-align: middle;\n",
       "    }\n",
       "\n",
       "    .dataframe tbody tr th {\n",
       "        vertical-align: top;\n",
       "    }\n",
       "\n",
       "    .dataframe thead th {\n",
       "        text-align: right;\n",
       "    }\n",
       "</style>\n",
       "<table border=\"1\" class=\"dataframe\">\n",
       "  <thead>\n",
       "    <tr style=\"text-align: right;\">\n",
       "      <th></th>\n",
       "      <th>receipt_dttm</th>\n",
       "      <th>adstrd_code</th>\n",
       "      <th>adstrd_nm</th>\n",
       "      <th>mrhst_induty_cl_code</th>\n",
       "      <th>mrhst_induty_cl_nm</th>\n",
       "      <th>selng_cascnt</th>\n",
       "      <th>salamt</th>\n",
       "    </tr>\n",
       "  </thead>\n",
       "  <tbody>\n",
       "    <tr>\n",
       "      <th>0</th>\n",
       "      <td>2020-01-04</td>\n",
       "      <td>1174066000</td>\n",
       "      <td>성내3동</td>\n",
       "      <td>7041</td>\n",
       "      <td>약국</td>\n",
       "      <td>463</td>\n",
       "      <td>5843230</td>\n",
       "    </tr>\n",
       "    <tr>\n",
       "      <th>1</th>\n",
       "      <td>2020-01-04</td>\n",
       "      <td>1174066000</td>\n",
       "      <td>성내3동</td>\n",
       "      <td>7022</td>\n",
       "      <td>치과의원</td>\n",
       "      <td>33</td>\n",
       "      <td>7835550</td>\n",
       "    </tr>\n",
       "    <tr>\n",
       "      <th>2</th>\n",
       "      <td>2020-01-04</td>\n",
       "      <td>1174066000</td>\n",
       "      <td>성내3동</td>\n",
       "      <td>7021</td>\n",
       "      <td>한의원</td>\n",
       "      <td>53</td>\n",
       "      <td>4589800</td>\n",
       "    </tr>\n",
       "    <tr>\n",
       "      <th>3</th>\n",
       "      <td>2020-01-04</td>\n",
       "      <td>1174066000</td>\n",
       "      <td>성내3동</td>\n",
       "      <td>5199</td>\n",
       "      <td>기타교육</td>\n",
       "      <td>54</td>\n",
       "      <td>1446900</td>\n",
       "    </tr>\n",
       "    <tr>\n",
       "      <th>4</th>\n",
       "      <td>2020-01-04</td>\n",
       "      <td>1174066000</td>\n",
       "      <td>성내3동</td>\n",
       "      <td>5105</td>\n",
       "      <td>보습학원</td>\n",
       "      <td>12</td>\n",
       "      <td>3876000</td>\n",
       "    </tr>\n",
       "    <tr>\n",
       "      <th>...</th>\n",
       "      <td>...</td>\n",
       "      <td>...</td>\n",
       "      <td>...</td>\n",
       "      <td>...</td>\n",
       "      <td>...</td>\n",
       "      <td>...</td>\n",
       "      <td>...</td>\n",
       "    </tr>\n",
       "    <tr>\n",
       "      <th>1348861</th>\n",
       "      <td>2020-06-14</td>\n",
       "      <td>1174052000</td>\n",
       "      <td>상일동</td>\n",
       "      <td>3321</td>\n",
       "      <td>전기차충전소</td>\n",
       "      <td>1</td>\n",
       "      <td>5000</td>\n",
       "    </tr>\n",
       "    <tr>\n",
       "      <th>1348862</th>\n",
       "      <td>2020-06-14</td>\n",
       "      <td>1174052000</td>\n",
       "      <td>상일동</td>\n",
       "      <td>7112</td>\n",
       "      <td>의료용품</td>\n",
       "      <td>9</td>\n",
       "      <td>264500</td>\n",
       "    </tr>\n",
       "    <tr>\n",
       "      <th>1348863</th>\n",
       "      <td>2020-06-14</td>\n",
       "      <td>1174066000</td>\n",
       "      <td>성내3동</td>\n",
       "      <td>7112</td>\n",
       "      <td>의료용품</td>\n",
       "      <td>1</td>\n",
       "      <td>1200000</td>\n",
       "    </tr>\n",
       "    <tr>\n",
       "      <th>1348864</th>\n",
       "      <td>2020-06-14</td>\n",
       "      <td>1150053000</td>\n",
       "      <td>등촌2동</td>\n",
       "      <td>4205</td>\n",
       "      <td>내의판매점</td>\n",
       "      <td>3</td>\n",
       "      <td>2850000</td>\n",
       "    </tr>\n",
       "    <tr>\n",
       "      <th>1348865</th>\n",
       "      <td>2020-06-14</td>\n",
       "      <td>1162052500</td>\n",
       "      <td>보라매동</td>\n",
       "      <td>6140</td>\n",
       "      <td>주차장</td>\n",
       "      <td>2</td>\n",
       "      <td>14500</td>\n",
       "    </tr>\n",
       "  </tbody>\n",
       "</table>\n",
       "<p>1348866 rows × 7 columns</p>\n",
       "</div>"
      ],
      "text/plain": [
       "        receipt_dttm  adstrd_code adstrd_nm  mrhst_induty_cl_code  \\\n",
       "0         2020-01-04   1174066000      성내3동                  7041   \n",
       "1         2020-01-04   1174066000      성내3동                  7022   \n",
       "2         2020-01-04   1174066000      성내3동                  7021   \n",
       "3         2020-01-04   1174066000      성내3동                  5199   \n",
       "4         2020-01-04   1174066000      성내3동                  5105   \n",
       "...              ...          ...       ...                   ...   \n",
       "1348861   2020-06-14   1174052000       상일동                  3321   \n",
       "1348862   2020-06-14   1174052000       상일동                  7112   \n",
       "1348863   2020-06-14   1174066000      성내3동                  7112   \n",
       "1348864   2020-06-14   1150053000      등촌2동                  4205   \n",
       "1348865   2020-06-14   1162052500      보라매동                  6140   \n",
       "\n",
       "        mrhst_induty_cl_nm  selng_cascnt   salamt  \n",
       "0                       약국           463  5843230  \n",
       "1                     치과의원            33  7835550  \n",
       "2                      한의원            53  4589800  \n",
       "3                     기타교육            54  1446900  \n",
       "4                     보습학원            12  3876000  \n",
       "...                    ...           ...      ...  \n",
       "1348861             전기차충전소             1     5000  \n",
       "1348862               의료용품             9   264500  \n",
       "1348863               의료용품             1  1200000  \n",
       "1348864              내의판매점             3  2850000  \n",
       "1348865                주차장             2    14500  \n",
       "\n",
       "[1348866 rows x 7 columns]"
      ]
     },
     "execution_count": 293,
     "metadata": {},
     "output_type": "execute_result"
    }
   ],
   "source": [
    "object_df = card_df[card_df['mrhst_induty_cl_nm'].isin(extract_objects_list)]\n",
    "object_df.reset_index(drop = True)"
   ]
  },
  {
   "cell_type": "code",
   "execution_count": 387,
   "metadata": {},
   "outputs": [
    {
     "data": {
      "text/html": [
       "<div>\n",
       "<style scoped>\n",
       "    .dataframe tbody tr th:only-of-type {\n",
       "        vertical-align: middle;\n",
       "    }\n",
       "\n",
       "    .dataframe tbody tr th {\n",
       "        vertical-align: top;\n",
       "    }\n",
       "\n",
       "    .dataframe thead th {\n",
       "        text-align: right;\n",
       "    }\n",
       "</style>\n",
       "<table border=\"1\" class=\"dataframe\">\n",
       "  <thead>\n",
       "    <tr style=\"text-align: right;\">\n",
       "      <th></th>\n",
       "      <th>receipt_dttm</th>\n",
       "      <th>adstrd_code</th>\n",
       "      <th>adstrd_nm</th>\n",
       "      <th>mrhst_induty_cl_code</th>\n",
       "      <th>mrhst_induty_cl_nm</th>\n",
       "      <th>selng_cascnt</th>\n",
       "      <th>salamt</th>\n",
       "      <th>div_first</th>\n",
       "    </tr>\n",
       "  </thead>\n",
       "  <tbody>\n",
       "    <tr>\n",
       "      <th>0</th>\n",
       "      <td>2020-01-04</td>\n",
       "      <td>1174066000</td>\n",
       "      <td>성내3동</td>\n",
       "      <td>7041</td>\n",
       "      <td>약국</td>\n",
       "      <td>463</td>\n",
       "      <td>5843230</td>\n",
       "      <td>의료</td>\n",
       "    </tr>\n",
       "    <tr>\n",
       "      <th>1</th>\n",
       "      <td>2020-01-04</td>\n",
       "      <td>1174066000</td>\n",
       "      <td>성내3동</td>\n",
       "      <td>7022</td>\n",
       "      <td>치과의원</td>\n",
       "      <td>33</td>\n",
       "      <td>7835550</td>\n",
       "      <td>의료</td>\n",
       "    </tr>\n",
       "    <tr>\n",
       "      <th>2</th>\n",
       "      <td>2020-01-04</td>\n",
       "      <td>1174066000</td>\n",
       "      <td>성내3동</td>\n",
       "      <td>7021</td>\n",
       "      <td>한의원</td>\n",
       "      <td>53</td>\n",
       "      <td>4589800</td>\n",
       "      <td>의료</td>\n",
       "    </tr>\n",
       "    <tr>\n",
       "      <th>5</th>\n",
       "      <td>2020-01-04</td>\n",
       "      <td>1174066000</td>\n",
       "      <td>성내3동</td>\n",
       "      <td>5199</td>\n",
       "      <td>기타교육</td>\n",
       "      <td>54</td>\n",
       "      <td>1446900</td>\n",
       "      <td>교육</td>\n",
       "    </tr>\n",
       "    <tr>\n",
       "      <th>6</th>\n",
       "      <td>2020-01-04</td>\n",
       "      <td>1174066000</td>\n",
       "      <td>성내3동</td>\n",
       "      <td>5105</td>\n",
       "      <td>보습학원</td>\n",
       "      <td>12</td>\n",
       "      <td>3876000</td>\n",
       "      <td>교육</td>\n",
       "    </tr>\n",
       "  </tbody>\n",
       "</table>\n",
       "</div>"
      ],
      "text/plain": [
       "  receipt_dttm  adstrd_code adstrd_nm  mrhst_induty_cl_code  \\\n",
       "0   2020-01-04   1174066000      성내3동                  7041   \n",
       "1   2020-01-04   1174066000      성내3동                  7022   \n",
       "2   2020-01-04   1174066000      성내3동                  7021   \n",
       "5   2020-01-04   1174066000      성내3동                  5199   \n",
       "6   2020-01-04   1174066000      성내3동                  5105   \n",
       "\n",
       "  mrhst_induty_cl_nm  selng_cascnt   salamt div_first  \n",
       "0                 약국           463  5843230        의료  \n",
       "1               치과의원            33  7835550        의료  \n",
       "2                한의원            53  4589800        의료  \n",
       "5               기타교육            54  1446900        교육  \n",
       "6               보습학원            12  3876000        교육  "
      ]
     },
     "execution_count": 387,
     "metadata": {},
     "output_type": "execute_result"
    }
   ],
   "source": [
    "object_df['div_first'] = object_df['mrhst_induty_cl_nm'].replace(division_combine_dict)\n",
    "object_df.head()"
   ]
  },
  {
   "cell_type": "code",
   "execution_count": 400,
   "metadata": {},
   "outputs": [],
   "source": [
    "object_df = object_df[['receipt_dttm',  'div_first', 'mrhst_induty_cl_nm', 'selng_cascnt']]\n",
    "object_df = object_df.rename(columns = {'receipt_dttm' : 'datetime'})"
   ]
  },
  {
   "cell_type": "code",
   "execution_count": null,
   "metadata": {},
   "outputs": [],
   "source": [
    "# daily_cnt = object_df.groupby(['receipt_dttm', 'div_first', 'mrhst_induty_cl_nm'], as_index = False)['selng_cascnt'].sum()"
   ]
  },
  {
   "cell_type": "code",
   "execution_count": 373,
   "metadata": {},
   "outputs": [],
   "source": [
    "# daily_median = daily_cnt.groupby(['div_first','mrhst_induty_cl_nm'],as_index =False).median()"
   ]
  },
  {
   "cell_type": "code",
   "execution_count": 380,
   "metadata": {},
   "outputs": [
    {
     "data": {
      "text/html": [
       "<div>\n",
       "<style scoped>\n",
       "    .dataframe tbody tr th:only-of-type {\n",
       "        vertical-align: middle;\n",
       "    }\n",
       "\n",
       "    .dataframe tbody tr th {\n",
       "        vertical-align: top;\n",
       "    }\n",
       "\n",
       "    .dataframe thead th {\n",
       "        text-align: right;\n",
       "    }\n",
       "</style>\n",
       "<table border=\"1\" class=\"dataframe\">\n",
       "  <thead>\n",
       "    <tr style=\"text-align: right;\">\n",
       "      <th></th>\n",
       "      <th>datetime</th>\n",
       "      <th>div_first</th>\n",
       "      <th>mrhst_induty_cl_nm</th>\n",
       "      <th>sales_cnt</th>\n",
       "      <th>daily_median</th>\n",
       "    </tr>\n",
       "  </thead>\n",
       "  <tbody>\n",
       "    <tr>\n",
       "      <th>0</th>\n",
       "      <td>2020-01-04</td>\n",
       "      <td>관광</td>\n",
       "      <td>1급호텔</td>\n",
       "      <td>38</td>\n",
       "      <td>338.0</td>\n",
       "    </tr>\n",
       "    <tr>\n",
       "      <th>1</th>\n",
       "      <td>2020-01-06</td>\n",
       "      <td>관광</td>\n",
       "      <td>1급호텔</td>\n",
       "      <td>19</td>\n",
       "      <td>338.0</td>\n",
       "    </tr>\n",
       "    <tr>\n",
       "      <th>2</th>\n",
       "      <td>2020-01-07</td>\n",
       "      <td>관광</td>\n",
       "      <td>1급호텔</td>\n",
       "      <td>40</td>\n",
       "      <td>338.0</td>\n",
       "    </tr>\n",
       "    <tr>\n",
       "      <th>3</th>\n",
       "      <td>2020-01-10</td>\n",
       "      <td>관광</td>\n",
       "      <td>1급호텔</td>\n",
       "      <td>43</td>\n",
       "      <td>338.0</td>\n",
       "    </tr>\n",
       "    <tr>\n",
       "      <th>4</th>\n",
       "      <td>2020-01-11</td>\n",
       "      <td>관광</td>\n",
       "      <td>1급호텔</td>\n",
       "      <td>59</td>\n",
       "      <td>338.0</td>\n",
       "    </tr>\n",
       "  </tbody>\n",
       "</table>\n",
       "</div>"
      ],
      "text/plain": [
       "     datetime div_first mrhst_induty_cl_nm  sales_cnt  daily_median\n",
       "0  2020-01-04        관광               1급호텔         38         338.0\n",
       "1  2020-01-06        관광               1급호텔         19         338.0\n",
       "2  2020-01-07        관광               1급호텔         40         338.0\n",
       "3  2020-01-10        관광               1급호텔         43         338.0\n",
       "4  2020-01-11        관광               1급호텔         59         338.0"
      ]
     },
     "execution_count": 380,
     "metadata": {},
     "output_type": "execute_result"
    }
   ],
   "source": [
    "# cnt_median_df = pd.merge(daily_cnt, daily_median, on = ['div_first', 'mrhst_induty_cl_nm'])\n",
    "# cnt_median_df.columns = ['datetime', 'div_first', 'mrhst_induty_cl_nm', 'sales_cnt','daily_median']\n",
    "# cnt_median_df.head(5)"
   ]
  },
  {
   "cell_type": "code",
   "execution_count": 382,
   "metadata": {},
   "outputs": [
    {
     "data": {
      "text/html": [
       "<div>\n",
       "<style scoped>\n",
       "    .dataframe tbody tr th:only-of-type {\n",
       "        vertical-align: middle;\n",
       "    }\n",
       "\n",
       "    .dataframe tbody tr th {\n",
       "        vertical-align: top;\n",
       "    }\n",
       "\n",
       "    .dataframe thead th {\n",
       "        text-align: right;\n",
       "    }\n",
       "</style>\n",
       "<table border=\"1\" class=\"dataframe\">\n",
       "  <thead>\n",
       "    <tr style=\"text-align: right;\">\n",
       "      <th></th>\n",
       "      <th>datetime</th>\n",
       "      <th>div_first</th>\n",
       "      <th>mrhst_induty_cl_nm</th>\n",
       "      <th>sales_cnt</th>\n",
       "      <th>daily_median</th>\n",
       "      <th>pct_of_cnt</th>\n",
       "    </tr>\n",
       "  </thead>\n",
       "  <tbody>\n",
       "    <tr>\n",
       "      <th>0</th>\n",
       "      <td>2020-01-04</td>\n",
       "      <td>관광</td>\n",
       "      <td>1급호텔</td>\n",
       "      <td>38</td>\n",
       "      <td>338.0</td>\n",
       "      <td>11.242604</td>\n",
       "    </tr>\n",
       "    <tr>\n",
       "      <th>1</th>\n",
       "      <td>2020-01-06</td>\n",
       "      <td>관광</td>\n",
       "      <td>1급호텔</td>\n",
       "      <td>19</td>\n",
       "      <td>338.0</td>\n",
       "      <td>5.621302</td>\n",
       "    </tr>\n",
       "    <tr>\n",
       "      <th>2</th>\n",
       "      <td>2020-01-07</td>\n",
       "      <td>관광</td>\n",
       "      <td>1급호텔</td>\n",
       "      <td>40</td>\n",
       "      <td>338.0</td>\n",
       "      <td>11.834320</td>\n",
       "    </tr>\n",
       "    <tr>\n",
       "      <th>3</th>\n",
       "      <td>2020-01-10</td>\n",
       "      <td>관광</td>\n",
       "      <td>1급호텔</td>\n",
       "      <td>43</td>\n",
       "      <td>338.0</td>\n",
       "      <td>12.721893</td>\n",
       "    </tr>\n",
       "    <tr>\n",
       "      <th>4</th>\n",
       "      <td>2020-01-11</td>\n",
       "      <td>관광</td>\n",
       "      <td>1급호텔</td>\n",
       "      <td>59</td>\n",
       "      <td>338.0</td>\n",
       "      <td>17.455621</td>\n",
       "    </tr>\n",
       "  </tbody>\n",
       "</table>\n",
       "</div>"
      ],
      "text/plain": [
       "     datetime div_first mrhst_induty_cl_nm  sales_cnt  daily_median  \\\n",
       "0  2020-01-04        관광               1급호텔         38         338.0   \n",
       "1  2020-01-06        관광               1급호텔         19         338.0   \n",
       "2  2020-01-07        관광               1급호텔         40         338.0   \n",
       "3  2020-01-10        관광               1급호텔         43         338.0   \n",
       "4  2020-01-11        관광               1급호텔         59         338.0   \n",
       "\n",
       "   pct_of_cnt  \n",
       "0   11.242604  \n",
       "1    5.621302  \n",
       "2   11.834320  \n",
       "3   12.721893  \n",
       "4   17.455621  "
      ]
     },
     "execution_count": 382,
     "metadata": {},
     "output_type": "execute_result"
    }
   ],
   "source": [
    "# cnt_median_df['pct_of_cnt'] = (cnt_median_df['sales_cnt'] / cnt_median_df['daily_median']) * 100\n",
    "# cnt_median_df.head()"
   ]
  },
  {
   "cell_type": "markdown",
   "metadata": {},
   "source": [
    "## 코로나 확진자"
   ]
  },
  {
   "cell_type": "code",
   "execution_count": 392,
   "metadata": {},
   "outputs": [
    {
     "data": {
      "text/plain": [
       "(163, 7)"
      ]
     },
     "execution_count": 392,
     "metadata": {},
     "output_type": "execute_result"
    }
   ],
   "source": [
    "covid_df = pd.read_csv(os.path.join(COVID_DIR, 'Time.csv'))\n",
    "covid_df.shape"
   ]
  },
  {
   "cell_type": "code",
   "execution_count": 393,
   "metadata": {},
   "outputs": [
    {
     "data": {
      "text/html": [
       "<div>\n",
       "<style scoped>\n",
       "    .dataframe tbody tr th:only-of-type {\n",
       "        vertical-align: middle;\n",
       "    }\n",
       "\n",
       "    .dataframe tbody tr th {\n",
       "        vertical-align: top;\n",
       "    }\n",
       "\n",
       "    .dataframe thead th {\n",
       "        text-align: right;\n",
       "    }\n",
       "</style>\n",
       "<table border=\"1\" class=\"dataframe\">\n",
       "  <thead>\n",
       "    <tr style=\"text-align: right;\">\n",
       "      <th></th>\n",
       "      <th>date</th>\n",
       "      <th>time</th>\n",
       "      <th>test</th>\n",
       "      <th>negative</th>\n",
       "      <th>confirmed</th>\n",
       "      <th>released</th>\n",
       "      <th>deceased</th>\n",
       "    </tr>\n",
       "  </thead>\n",
       "  <tbody>\n",
       "    <tr>\n",
       "      <th>0</th>\n",
       "      <td>2020-01-20</td>\n",
       "      <td>16</td>\n",
       "      <td>1</td>\n",
       "      <td>0</td>\n",
       "      <td>1</td>\n",
       "      <td>0</td>\n",
       "      <td>0</td>\n",
       "    </tr>\n",
       "    <tr>\n",
       "      <th>1</th>\n",
       "      <td>2020-01-21</td>\n",
       "      <td>16</td>\n",
       "      <td>1</td>\n",
       "      <td>0</td>\n",
       "      <td>1</td>\n",
       "      <td>0</td>\n",
       "      <td>0</td>\n",
       "    </tr>\n",
       "    <tr>\n",
       "      <th>2</th>\n",
       "      <td>2020-01-22</td>\n",
       "      <td>16</td>\n",
       "      <td>4</td>\n",
       "      <td>3</td>\n",
       "      <td>1</td>\n",
       "      <td>0</td>\n",
       "      <td>0</td>\n",
       "    </tr>\n",
       "    <tr>\n",
       "      <th>3</th>\n",
       "      <td>2020-01-23</td>\n",
       "      <td>16</td>\n",
       "      <td>22</td>\n",
       "      <td>21</td>\n",
       "      <td>1</td>\n",
       "      <td>0</td>\n",
       "      <td>0</td>\n",
       "    </tr>\n",
       "    <tr>\n",
       "      <th>4</th>\n",
       "      <td>2020-01-24</td>\n",
       "      <td>16</td>\n",
       "      <td>27</td>\n",
       "      <td>25</td>\n",
       "      <td>2</td>\n",
       "      <td>0</td>\n",
       "      <td>0</td>\n",
       "    </tr>\n",
       "  </tbody>\n",
       "</table>\n",
       "</div>"
      ],
      "text/plain": [
       "         date  time  test  negative  confirmed  released  deceased\n",
       "0  2020-01-20    16     1         0          1         0         0\n",
       "1  2020-01-21    16     1         0          1         0         0\n",
       "2  2020-01-22    16     4         3          1         0         0\n",
       "3  2020-01-23    16    22        21          1         0         0\n",
       "4  2020-01-24    16    27        25          2         0         0"
      ]
     },
     "execution_count": 393,
     "metadata": {},
     "output_type": "execute_result"
    }
   ],
   "source": [
    "covid_df.head(5)"
   ]
  },
  {
   "cell_type": "code",
   "execution_count": 394,
   "metadata": {},
   "outputs": [
    {
     "data": {
      "text/plain": [
       "('2020-01-20', '2020-06-30')"
      ]
     },
     "execution_count": 394,
     "metadata": {},
     "output_type": "execute_result"
    }
   ],
   "source": [
    "covid_df = covid_df[['date', 'confirmed']].sort_values(by = 'date')\n",
    "covid_df['date'].iloc[0], covid_df['date'].iloc[-1]"
   ]
  },
  {
   "cell_type": "code",
   "execution_count": 401,
   "metadata": {},
   "outputs": [],
   "source": [
    "covid_df.columns = ['datetime', 'covid_confirmed']"
   ]
  },
  {
   "cell_type": "markdown",
   "metadata": {},
   "source": [
    "# Final Result"
   ]
  },
  {
   "cell_type": "code",
   "execution_count": 402,
   "metadata": {},
   "outputs": [
    {
     "data": {
      "text/html": [
       "<div>\n",
       "<style scoped>\n",
       "    .dataframe tbody tr th:only-of-type {\n",
       "        vertical-align: middle;\n",
       "    }\n",
       "\n",
       "    .dataframe tbody tr th {\n",
       "        vertical-align: top;\n",
       "    }\n",
       "\n",
       "    .dataframe thead th {\n",
       "        text-align: right;\n",
       "    }\n",
       "</style>\n",
       "<table border=\"1\" class=\"dataframe\">\n",
       "  <thead>\n",
       "    <tr style=\"text-align: right;\">\n",
       "      <th></th>\n",
       "      <th>datetime</th>\n",
       "      <th>div_first</th>\n",
       "      <th>mrhst_induty_cl_nm</th>\n",
       "      <th>selng_cascnt</th>\n",
       "      <th>covid_confirmed</th>\n",
       "    </tr>\n",
       "  </thead>\n",
       "  <tbody>\n",
       "    <tr>\n",
       "      <th>0</th>\n",
       "      <td>2020-01-20</td>\n",
       "      <td>음식점</td>\n",
       "      <td>제과점</td>\n",
       "      <td>50</td>\n",
       "      <td>1</td>\n",
       "    </tr>\n",
       "    <tr>\n",
       "      <th>1</th>\n",
       "      <td>2020-01-20</td>\n",
       "      <td>음식점</td>\n",
       "      <td>스넥</td>\n",
       "      <td>369</td>\n",
       "      <td>1</td>\n",
       "    </tr>\n",
       "    <tr>\n",
       "      <th>2</th>\n",
       "      <td>2020-01-20</td>\n",
       "      <td>음식점</td>\n",
       "      <td>중국음식</td>\n",
       "      <td>97</td>\n",
       "      <td>1</td>\n",
       "    </tr>\n",
       "    <tr>\n",
       "      <th>3</th>\n",
       "      <td>2020-01-20</td>\n",
       "      <td>음식점</td>\n",
       "      <td>일식회집</td>\n",
       "      <td>19</td>\n",
       "      <td>1</td>\n",
       "    </tr>\n",
       "    <tr>\n",
       "      <th>4</th>\n",
       "      <td>2020-01-20</td>\n",
       "      <td>음식점</td>\n",
       "      <td>일반한식</td>\n",
       "      <td>814</td>\n",
       "      <td>1</td>\n",
       "    </tr>\n",
       "    <tr>\n",
       "      <th>...</th>\n",
       "      <td>...</td>\n",
       "      <td>...</td>\n",
       "      <td>...</td>\n",
       "      <td>...</td>\n",
       "      <td>...</td>\n",
       "    </tr>\n",
       "    <tr>\n",
       "      <th>1290987</th>\n",
       "      <td>2020-06-14</td>\n",
       "      <td>의료</td>\n",
       "      <td>치과의원</td>\n",
       "      <td>8</td>\n",
       "      <td>12085</td>\n",
       "    </tr>\n",
       "    <tr>\n",
       "      <th>1290988</th>\n",
       "      <td>2020-06-14</td>\n",
       "      <td>음식점</td>\n",
       "      <td>제과점</td>\n",
       "      <td>179</td>\n",
       "      <td>12085</td>\n",
       "    </tr>\n",
       "    <tr>\n",
       "      <th>1290989</th>\n",
       "      <td>2020-06-14</td>\n",
       "      <td>의류</td>\n",
       "      <td>기타의류</td>\n",
       "      <td>23</td>\n",
       "      <td>12085</td>\n",
       "    </tr>\n",
       "    <tr>\n",
       "      <th>1290990</th>\n",
       "      <td>2020-06-14</td>\n",
       "      <td>음식점</td>\n",
       "      <td>제과점</td>\n",
       "      <td>145</td>\n",
       "      <td>12085</td>\n",
       "    </tr>\n",
       "    <tr>\n",
       "      <th>1290991</th>\n",
       "      <td>2020-06-14</td>\n",
       "      <td>교통</td>\n",
       "      <td>주차장</td>\n",
       "      <td>2</td>\n",
       "      <td>12085</td>\n",
       "    </tr>\n",
       "  </tbody>\n",
       "</table>\n",
       "<p>1290992 rows × 5 columns</p>\n",
       "</div>"
      ],
      "text/plain": [
       "           datetime div_first mrhst_induty_cl_nm  selng_cascnt  \\\n",
       "0        2020-01-20       음식점                제과점            50   \n",
       "1        2020-01-20       음식점                 스넥           369   \n",
       "2        2020-01-20       음식점               중국음식            97   \n",
       "3        2020-01-20       음식점               일식회집            19   \n",
       "4        2020-01-20       음식점               일반한식           814   \n",
       "...             ...       ...                ...           ...   \n",
       "1290987  2020-06-14        의료               치과의원             8   \n",
       "1290988  2020-06-14       음식점                제과점           179   \n",
       "1290989  2020-06-14        의류               기타의류            23   \n",
       "1290990  2020-06-14       음식점                제과점           145   \n",
       "1290991  2020-06-14        교통                주차장             2   \n",
       "\n",
       "         covid_confirmed  \n",
       "0                      1  \n",
       "1                      1  \n",
       "2                      1  \n",
       "3                      1  \n",
       "4                      1  \n",
       "...                  ...  \n",
       "1290987            12085  \n",
       "1290988            12085  \n",
       "1290989            12085  \n",
       "1290990            12085  \n",
       "1290991            12085  \n",
       "\n",
       "[1290992 rows x 5 columns]"
      ]
     },
     "execution_count": 402,
     "metadata": {},
     "output_type": "execute_result"
    }
   ],
   "source": [
    "final = pd.merge(object_df, covid_df, on = 'datetime').sort_values('datetime').reset_index(drop = True)\n",
    "final"
   ]
  },
  {
   "cell_type": "code",
   "execution_count": 408,
   "metadata": {},
   "outputs": [],
   "source": [
    "final.to_csv('internal_data.csv', index = False)"
   ]
  }
 ],
 "metadata": {
  "kernelspec": {
   "display_name": "Python 3",
   "language": "python",
   "name": "python3"
  },
  "language_info": {
   "codemirror_mode": {
    "name": "ipython",
    "version": 3
   },
   "file_extension": ".py",
   "mimetype": "text/x-python",
   "name": "python",
   "nbconvert_exporter": "python",
   "pygments_lexer": "ipython3",
   "version": "3.7.7"
  }
 },
 "nbformat": 4,
 "nbformat_minor": 4
}
